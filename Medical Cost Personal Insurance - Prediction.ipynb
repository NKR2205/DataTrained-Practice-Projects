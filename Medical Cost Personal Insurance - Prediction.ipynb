{
 "cells": [
  {
   "cell_type": "markdown",
   "id": "09eeae5f",
   "metadata": {},
   "source": [
    "# Medical Cost Personal Insurance - Prediction"
   ]
  },
  {
   "cell_type": "markdown",
   "id": "39997d82",
   "metadata": {},
   "source": [
    "Problem Statement:\n",
    "    \n",
    "Insurance Forecast by using Regression Algorithms\n",
    "\n",
    "Health insurance is a type of insurance that covers medical expenses that arise due to an illness. \n",
    "These expenses could be related to hospitalisation costs, cost of medicines or doctor consultation fees. \n",
    "The main purpose of medical insurance is to receive the best medical care without any strain on your finances. \n",
    "Health insurance plans offer protection against high medical costs. It covers hospitalization expenses, \n",
    "day care procedures, domiciliary expenses, and ambulance charges, besides many others. Based on certain input features \n",
    "such as age , bmi,,no of dependents ,smoker ,region  medical insurance is calculated.\n",
    "\n",
    "\n",
    "Columns:                                            \n",
    "\n",
    "age: age of primary beneficiary\n",
    "\n",
    "sex: insurance contractor gender, female, male\n",
    "\n",
    "bmi: Body mass index, providing an understanding of body, weights that are relatively high or low relative to height,\n",
    "objective index of body weight (kg / m ^ 2) using the ratio of height to weight, ideally 18.5 to 24.9.\n",
    "\n",
    "children: Number of children covered by health insurance / Number of dependents\n",
    "\n",
    "smoker: Smoking\n",
    "\n",
    "region: the beneficiary's residential area in the US, northeast, southeast, southwest, northwest.\n",
    "\n",
    "charges: Individual medical costs billed by health insurance\n",
    "\n",
    "Predict : Charges  Can you accurately predict insurance costs?\n",
    "    \n",
    "    "
   ]
  },
  {
   "cell_type": "code",
   "execution_count": 350,
   "id": "7c7dc271",
   "metadata": {},
   "outputs": [],
   "source": [
    "import pandas as pd\n",
    "import numpy as np\n",
    "\n",
    "import matplotlib.pyplot as plt\n",
    "import seaborn as sns\n",
    "\n",
    "import sklearn\n",
    "from sklearn import preprocessing\n",
    "\n",
    "import warnings\n",
    "warnings.filterwarnings('ignore')"
   ]
  },
  {
   "cell_type": "code",
   "execution_count": 351,
   "id": "4ec85bb3",
   "metadata": {},
   "outputs": [
    {
     "data": {
      "text/html": [
       "<div>\n",
       "<style scoped>\n",
       "    .dataframe tbody tr th:only-of-type {\n",
       "        vertical-align: middle;\n",
       "    }\n",
       "\n",
       "    .dataframe tbody tr th {\n",
       "        vertical-align: top;\n",
       "    }\n",
       "\n",
       "    .dataframe thead th {\n",
       "        text-align: right;\n",
       "    }\n",
       "</style>\n",
       "<table border=\"1\" class=\"dataframe\">\n",
       "  <thead>\n",
       "    <tr style=\"text-align: right;\">\n",
       "      <th></th>\n",
       "      <th>age</th>\n",
       "      <th>sex</th>\n",
       "      <th>bmi</th>\n",
       "      <th>children</th>\n",
       "      <th>smoker</th>\n",
       "      <th>region</th>\n",
       "      <th>charges</th>\n",
       "    </tr>\n",
       "  </thead>\n",
       "  <tbody>\n",
       "    <tr>\n",
       "      <th>0</th>\n",
       "      <td>19</td>\n",
       "      <td>female</td>\n",
       "      <td>27.900</td>\n",
       "      <td>0</td>\n",
       "      <td>yes</td>\n",
       "      <td>southwest</td>\n",
       "      <td>16884.92400</td>\n",
       "    </tr>\n",
       "    <tr>\n",
       "      <th>1</th>\n",
       "      <td>18</td>\n",
       "      <td>male</td>\n",
       "      <td>33.770</td>\n",
       "      <td>1</td>\n",
       "      <td>no</td>\n",
       "      <td>southeast</td>\n",
       "      <td>1725.55230</td>\n",
       "    </tr>\n",
       "    <tr>\n",
       "      <th>2</th>\n",
       "      <td>28</td>\n",
       "      <td>male</td>\n",
       "      <td>33.000</td>\n",
       "      <td>3</td>\n",
       "      <td>no</td>\n",
       "      <td>southeast</td>\n",
       "      <td>4449.46200</td>\n",
       "    </tr>\n",
       "    <tr>\n",
       "      <th>3</th>\n",
       "      <td>33</td>\n",
       "      <td>male</td>\n",
       "      <td>22.705</td>\n",
       "      <td>0</td>\n",
       "      <td>no</td>\n",
       "      <td>northwest</td>\n",
       "      <td>21984.47061</td>\n",
       "    </tr>\n",
       "    <tr>\n",
       "      <th>4</th>\n",
       "      <td>32</td>\n",
       "      <td>male</td>\n",
       "      <td>28.880</td>\n",
       "      <td>0</td>\n",
       "      <td>no</td>\n",
       "      <td>northwest</td>\n",
       "      <td>3866.85520</td>\n",
       "    </tr>\n",
       "    <tr>\n",
       "      <th>...</th>\n",
       "      <td>...</td>\n",
       "      <td>...</td>\n",
       "      <td>...</td>\n",
       "      <td>...</td>\n",
       "      <td>...</td>\n",
       "      <td>...</td>\n",
       "      <td>...</td>\n",
       "    </tr>\n",
       "    <tr>\n",
       "      <th>1333</th>\n",
       "      <td>50</td>\n",
       "      <td>male</td>\n",
       "      <td>30.970</td>\n",
       "      <td>3</td>\n",
       "      <td>no</td>\n",
       "      <td>northwest</td>\n",
       "      <td>10600.54830</td>\n",
       "    </tr>\n",
       "    <tr>\n",
       "      <th>1334</th>\n",
       "      <td>18</td>\n",
       "      <td>female</td>\n",
       "      <td>31.920</td>\n",
       "      <td>0</td>\n",
       "      <td>no</td>\n",
       "      <td>northeast</td>\n",
       "      <td>2205.98080</td>\n",
       "    </tr>\n",
       "    <tr>\n",
       "      <th>1335</th>\n",
       "      <td>18</td>\n",
       "      <td>female</td>\n",
       "      <td>36.850</td>\n",
       "      <td>0</td>\n",
       "      <td>no</td>\n",
       "      <td>southeast</td>\n",
       "      <td>1629.83350</td>\n",
       "    </tr>\n",
       "    <tr>\n",
       "      <th>1336</th>\n",
       "      <td>21</td>\n",
       "      <td>female</td>\n",
       "      <td>25.800</td>\n",
       "      <td>0</td>\n",
       "      <td>no</td>\n",
       "      <td>southwest</td>\n",
       "      <td>2007.94500</td>\n",
       "    </tr>\n",
       "    <tr>\n",
       "      <th>1337</th>\n",
       "      <td>61</td>\n",
       "      <td>female</td>\n",
       "      <td>29.070</td>\n",
       "      <td>0</td>\n",
       "      <td>yes</td>\n",
       "      <td>northwest</td>\n",
       "      <td>29141.36030</td>\n",
       "    </tr>\n",
       "  </tbody>\n",
       "</table>\n",
       "<p>1338 rows × 7 columns</p>\n",
       "</div>"
      ],
      "text/plain": [
       "      age     sex     bmi  children smoker     region      charges\n",
       "0      19  female  27.900         0    yes  southwest  16884.92400\n",
       "1      18    male  33.770         1     no  southeast   1725.55230\n",
       "2      28    male  33.000         3     no  southeast   4449.46200\n",
       "3      33    male  22.705         0     no  northwest  21984.47061\n",
       "4      32    male  28.880         0     no  northwest   3866.85520\n",
       "...   ...     ...     ...       ...    ...        ...          ...\n",
       "1333   50    male  30.970         3     no  northwest  10600.54830\n",
       "1334   18  female  31.920         0     no  northeast   2205.98080\n",
       "1335   18  female  36.850         0     no  southeast   1629.83350\n",
       "1336   21  female  25.800         0     no  southwest   2007.94500\n",
       "1337   61  female  29.070         0    yes  northwest  29141.36030\n",
       "\n",
       "[1338 rows x 7 columns]"
      ]
     },
     "execution_count": 351,
     "metadata": {},
     "output_type": "execute_result"
    }
   ],
   "source": [
    "medcost = pd.read_csv(\"medical_cost_insurance.csv\")\n",
    "medcost"
   ]
  },
  {
   "cell_type": "markdown",
   "id": "ee8eed28",
   "metadata": {},
   "source": [
    "# Exploratory Data Analysis (EDA)"
   ]
  },
  {
   "cell_type": "markdown",
   "id": "4e046d7d",
   "metadata": {},
   "source": [
    "# Data Pre Processing"
   ]
  },
  {
   "cell_type": "code",
   "execution_count": 352,
   "id": "ad04a1c6",
   "metadata": {},
   "outputs": [
    {
     "data": {
      "text/plain": [
       "(1338, 7)"
      ]
     },
     "execution_count": 352,
     "metadata": {},
     "output_type": "execute_result"
    }
   ],
   "source": [
    "# Checking the dimension of the dataset\n",
    "\n",
    "medcost.shape"
   ]
  },
  {
   "cell_type": "code",
   "execution_count": 353,
   "id": "566463cd",
   "metadata": {},
   "outputs": [
    {
     "data": {
      "text/html": [
       "<div>\n",
       "<style scoped>\n",
       "    .dataframe tbody tr th:only-of-type {\n",
       "        vertical-align: middle;\n",
       "    }\n",
       "\n",
       "    .dataframe tbody tr th {\n",
       "        vertical-align: top;\n",
       "    }\n",
       "\n",
       "    .dataframe thead th {\n",
       "        text-align: right;\n",
       "    }\n",
       "</style>\n",
       "<table border=\"1\" class=\"dataframe\">\n",
       "  <thead>\n",
       "    <tr style=\"text-align: right;\">\n",
       "      <th></th>\n",
       "      <th>age</th>\n",
       "      <th>sex</th>\n",
       "      <th>bmi</th>\n",
       "      <th>children</th>\n",
       "      <th>smoker</th>\n",
       "      <th>region</th>\n",
       "      <th>charges</th>\n",
       "    </tr>\n",
       "  </thead>\n",
       "  <tbody>\n",
       "    <tr>\n",
       "      <th>658</th>\n",
       "      <td>48</td>\n",
       "      <td>female</td>\n",
       "      <td>35.910</td>\n",
       "      <td>1</td>\n",
       "      <td>no</td>\n",
       "      <td>northeast</td>\n",
       "      <td>26392.26029</td>\n",
       "    </tr>\n",
       "    <tr>\n",
       "      <th>753</th>\n",
       "      <td>58</td>\n",
       "      <td>female</td>\n",
       "      <td>22.770</td>\n",
       "      <td>0</td>\n",
       "      <td>no</td>\n",
       "      <td>southeast</td>\n",
       "      <td>11833.78230</td>\n",
       "    </tr>\n",
       "    <tr>\n",
       "      <th>788</th>\n",
       "      <td>29</td>\n",
       "      <td>male</td>\n",
       "      <td>22.515</td>\n",
       "      <td>3</td>\n",
       "      <td>no</td>\n",
       "      <td>northeast</td>\n",
       "      <td>5209.57885</td>\n",
       "    </tr>\n",
       "    <tr>\n",
       "      <th>180</th>\n",
       "      <td>58</td>\n",
       "      <td>male</td>\n",
       "      <td>28.595</td>\n",
       "      <td>0</td>\n",
       "      <td>no</td>\n",
       "      <td>northwest</td>\n",
       "      <td>11735.87905</td>\n",
       "    </tr>\n",
       "    <tr>\n",
       "      <th>571</th>\n",
       "      <td>18</td>\n",
       "      <td>female</td>\n",
       "      <td>37.290</td>\n",
       "      <td>1</td>\n",
       "      <td>no</td>\n",
       "      <td>southeast</td>\n",
       "      <td>2219.44510</td>\n",
       "    </tr>\n",
       "    <tr>\n",
       "      <th>1301</th>\n",
       "      <td>62</td>\n",
       "      <td>male</td>\n",
       "      <td>30.875</td>\n",
       "      <td>3</td>\n",
       "      <td>yes</td>\n",
       "      <td>northwest</td>\n",
       "      <td>46718.16325</td>\n",
       "    </tr>\n",
       "    <tr>\n",
       "      <th>896</th>\n",
       "      <td>43</td>\n",
       "      <td>female</td>\n",
       "      <td>20.045</td>\n",
       "      <td>2</td>\n",
       "      <td>yes</td>\n",
       "      <td>northeast</td>\n",
       "      <td>19798.05455</td>\n",
       "    </tr>\n",
       "    <tr>\n",
       "      <th>881</th>\n",
       "      <td>23</td>\n",
       "      <td>male</td>\n",
       "      <td>27.360</td>\n",
       "      <td>1</td>\n",
       "      <td>no</td>\n",
       "      <td>northwest</td>\n",
       "      <td>2789.05740</td>\n",
       "    </tr>\n",
       "    <tr>\n",
       "      <th>1285</th>\n",
       "      <td>47</td>\n",
       "      <td>female</td>\n",
       "      <td>24.320</td>\n",
       "      <td>0</td>\n",
       "      <td>no</td>\n",
       "      <td>northeast</td>\n",
       "      <td>8534.67180</td>\n",
       "    </tr>\n",
       "    <tr>\n",
       "      <th>1245</th>\n",
       "      <td>28</td>\n",
       "      <td>male</td>\n",
       "      <td>24.300</td>\n",
       "      <td>5</td>\n",
       "      <td>no</td>\n",
       "      <td>southwest</td>\n",
       "      <td>5615.36900</td>\n",
       "    </tr>\n",
       "  </tbody>\n",
       "</table>\n",
       "</div>"
      ],
      "text/plain": [
       "      age     sex     bmi  children smoker     region      charges\n",
       "658    48  female  35.910         1     no  northeast  26392.26029\n",
       "753    58  female  22.770         0     no  southeast  11833.78230\n",
       "788    29    male  22.515         3     no  northeast   5209.57885\n",
       "180    58    male  28.595         0     no  northwest  11735.87905\n",
       "571    18  female  37.290         1     no  southeast   2219.44510\n",
       "1301   62    male  30.875         3    yes  northwest  46718.16325\n",
       "896    43  female  20.045         2    yes  northeast  19798.05455\n",
       "881    23    male  27.360         1     no  northwest   2789.05740\n",
       "1285   47  female  24.320         0     no  northeast   8534.67180\n",
       "1245   28    male  24.300         5     no  southwest   5615.36900"
      ]
     },
     "execution_count": 353,
     "metadata": {},
     "output_type": "execute_result"
    }
   ],
   "source": [
    "# Checking sample of the dataset\n",
    "\n",
    "medcost.sample(10)"
   ]
  },
  {
   "cell_type": "code",
   "execution_count": 354,
   "id": "afa3a023",
   "metadata": {},
   "outputs": [
    {
     "data": {
      "text/plain": [
       "Index(['age', 'sex', 'bmi', 'children', 'smoker', 'region', 'charges'], dtype='object')"
      ]
     },
     "execution_count": 354,
     "metadata": {},
     "output_type": "execute_result"
    }
   ],
   "source": [
    "# Checking the column \n",
    "\n",
    "medcost.columns"
   ]
  },
  {
   "cell_type": "code",
   "execution_count": 355,
   "id": "e05f25e1",
   "metadata": {},
   "outputs": [
    {
     "data": {
      "text/plain": [
       "age           int64\n",
       "sex          object\n",
       "bmi         float64\n",
       "children      int64\n",
       "smoker       object\n",
       "region       object\n",
       "charges     float64\n",
       "dtype: object"
      ]
     },
     "execution_count": 355,
     "metadata": {},
     "output_type": "execute_result"
    }
   ],
   "source": [
    "# Checking the datatypes\n",
    "\n",
    "medcost.dtypes"
   ]
  },
  {
   "cell_type": "code",
   "execution_count": 356,
   "id": "617ae6e8",
   "metadata": {},
   "outputs": [
    {
     "data": {
      "text/plain": [
       "age           47\n",
       "sex            2\n",
       "bmi          548\n",
       "children       6\n",
       "smoker         2\n",
       "region         4\n",
       "charges     1337\n",
       "dtype: int64"
      ]
     },
     "execution_count": 356,
     "metadata": {},
     "output_type": "execute_result"
    }
   ],
   "source": [
    "# Checking the unique value in the dataset\n",
    "\n",
    "medcost.nunique()"
   ]
  },
  {
   "cell_type": "code",
   "execution_count": 357,
   "id": "f896bc8d",
   "metadata": {},
   "outputs": [
    {
     "data": {
      "text/plain": [
       "age         0\n",
       "sex         0\n",
       "bmi         0\n",
       "children    0\n",
       "smoker      0\n",
       "region      0\n",
       "charges     0\n",
       "dtype: int64"
      ]
     },
     "execution_count": 357,
     "metadata": {},
     "output_type": "execute_result"
    }
   ],
   "source": [
    "# Checking null values in the dataset\n",
    "\n",
    "medcost.isnull().sum()"
   ]
  },
  {
   "cell_type": "code",
   "execution_count": 358,
   "id": "f4feafe6",
   "metadata": {},
   "outputs": [
    {
     "data": {
      "text/plain": [
       "<AxesSubplot:>"
      ]
     },
     "execution_count": 358,
     "metadata": {},
     "output_type": "execute_result"
    },
    {
     "data": {
      "image/png": "[encoded data removed]",
      "text/plain": [
       "<Figure size 864x360 with 2 Axes>"
      ]
     },
     "metadata": {
      "needs_background": "light"
     },
     "output_type": "display_data"
    }
   ],
   "source": [
    "# Checking the null values in heatmap\n",
    "\n",
    "plt.figure(figsize=(12,5))\n",
    "sns.heatmap(medcost.isnull())"
   ]
  },
  {
   "cell_type": "markdown",
   "id": "0d7fd5a0",
   "metadata": {},
   "source": [
    "Analysis:\n",
    "    \n",
    "Medical Cost Insurance dataset contains 1338 rows and 7 columns\n",
    "\n",
    "Datset contains 3 object,2 integer and 2 float columns\n",
    "\n",
    "No null values found in the dataset\n",
    "\n",
    "Charges is the target variable \n",
    "\n",
    "After analysing the problemm statement and data we can conclude that our datset is regression type and we have to apply\n",
    "regression algorithms "
   ]
  },
  {
   "cell_type": "markdown",
   "id": "324e55bd",
   "metadata": {},
   "source": [
    "# Visualization: Univariate Analysis"
   ]
  },
  {
   "cell_type": "code",
   "execution_count": 359,
   "id": "3f3ed519",
   "metadata": {
    "scrolled": false
   },
   "outputs": [
    {
     "data": {
      "image/png": "[encoded data removed]",
      "text/plain": [
       "<Figure size 720x360 with 1 Axes>"
      ]
     },
     "metadata": {
      "needs_background": "light"
     },
     "output_type": "display_data"
    },
    {
     "data": {
      "image/png": "[encoded data removed]",
      "text/plain": [
       "<Figure size 720x360 with 1 Axes>"
      ]
     },
     "metadata": {
      "needs_background": "light"
     },
     "output_type": "display_data"
    },
    {
     "data": {
      "image/png": "[encoded data removed]",
      "text/plain": [
       "<Figure size 720x360 with 1 Axes>"
      ]
     },
     "metadata": {
      "needs_background": "light"
     },
     "output_type": "display_data"
    },
    {
     "data": {
      "image/png": "[encoded data removed]",
      "text/plain": [
       "<Figure size 720x360 with 1 Axes>"
      ]
     },
     "metadata": {
      "needs_background": "light"
     },
     "output_type": "display_data"
    },
    {
     "data": {
      "image/png": "[encoded data removed]",
      "text/plain": [
       "<Figure size 720x360 with 1 Axes>"
      ]
     },
     "metadata": {
      "needs_background": "light"
     },
     "output_type": "display_data"
    },
    {
     "data": {
      "image/png": "[encoded data removed]",
      "text/plain": [
       "<Figure size 720x360 with 1 Axes>"
      ]
     },
     "metadata": {
      "needs_background": "light"
     },
     "output_type": "display_data"
    },
    {
     "data": {
      "image/png": "[encoded data removed]",
      "text/plain": [
       "<Figure size 720x360 with 1 Axes>"
      ]
     },
     "metadata": {
      "needs_background": "light"
     },
     "output_type": "display_data"
    }
   ],
   "source": [
    "# Visualizing the data by hist plot\n",
    "\n",
    "for i in medcost.columns[0:7]:\n",
    "    plt.figure(figsize=(10,5))\n",
    "    sns.histplot(medcost, x = medcost[i],color='#01889f')\n",
    "    plt.xlabel(i,fontsize=15)\n",
    "plt.show()"
   ]
  },
  {
   "cell_type": "markdown",
   "id": "3bbed752",
   "metadata": {},
   "source": [
    "# Visualization: Bivariate Analysis"
   ]
  },
  {
   "cell_type": "code",
   "execution_count": 360,
   "id": "c0464a18",
   "metadata": {
    "scrolled": false
   },
   "outputs": [
    {
     "data": {
      "image/png": "[encoded data removed]",
      "text/plain": [
       "<Figure size 720x360 with 1 Axes>"
      ]
     },
     "metadata": {
      "needs_background": "light"
     },
     "output_type": "display_data"
    },
    {
     "data": {
      "image/png": "[encoded data removed]",
      "text/plain": [
       "<Figure size 720x360 with 1 Axes>"
      ]
     },
     "metadata": {
      "needs_background": "light"
     },
     "output_type": "display_data"
    },
    {
     "data": {
      "image/png": "[encoded data removed]",
      "text/plain": [
       "<Figure size 720x360 with 1 Axes>"
      ]
     },
     "metadata": {
      "needs_background": "light"
     },
     "output_type": "display_data"
    },
    {
     "data": {
      "image/png": "[encoded data removed]",
      "text/plain": [
       "<Figure size 720x360 with 1 Axes>"
      ]
     },
     "metadata": {
      "needs_background": "light"
     },
     "output_type": "display_data"
    },
    {
     "data": {
      "image/png": "[encoded data removed]",
      "text/plain": [
       "<Figure size 720x360 with 1 Axes>"
      ]
     },
     "metadata": {
      "needs_background": "light"
     },
     "output_type": "display_data"
    },
    {
     "data": {
      "image/png": "[encoded data removed]",
      "text/plain": [
       "<Figure size 720x360 with 1 Axes>"
      ]
     },
     "metadata": {
      "needs_background": "light"
     },
     "output_type": "display_data"
    }
   ],
   "source": [
    "# Visualizing the dataset using scatter plot\n",
    "\n",
    "for i in medcost.columns[0:6]:\n",
    "    plt.figure(figsize=(10,5))\n",
    "    sns.scatterplot(data= medcost,x =medcost[i],y='charges',hue=\"sex\",palette=\"husl\" )\n",
    "    plt.xlabel(i,fontsize=15)\n",
    "    plt.ylabel('charges',fontsize=15)\n",
    "plt.show()\n",
    "    "
   ]
  },
  {
   "cell_type": "markdown",
   "id": "70f1a4a2",
   "metadata": {},
   "source": [
    "Analysis:\n",
    "\n",
    "Medical cost charges are increaing when the age is increaing \n",
    "\n",
    "Male count is high compared with female\n",
    "\n",
    "BMI count is high from age range 25 to 35\n",
    "\n",
    "Individual medical costs is high when numbers compared with childrens and dependents\n",
    "\n",
    "Smokers charges are high when compared to non smokers\n",
    "\n",
    "Region wise all 4 are similar but southwest region count is high compared with other regions"
   ]
  },
  {
   "cell_type": "markdown",
   "id": "ab693cc7",
   "metadata": {},
   "source": [
    "# Data Feature Selection and Engineering"
   ]
  },
  {
   "cell_type": "code",
   "execution_count": 361,
   "id": "6b37a70f",
   "metadata": {},
   "outputs": [
    {
     "data": {
      "text/html": [
       "<div>\n",
       "<style scoped>\n",
       "    .dataframe tbody tr th:only-of-type {\n",
       "        vertical-align: middle;\n",
       "    }\n",
       "\n",
       "    .dataframe tbody tr th {\n",
       "        vertical-align: top;\n",
       "    }\n",
       "\n",
       "    .dataframe thead th {\n",
       "        text-align: right;\n",
       "    }\n",
       "</style>\n",
       "<table border=\"1\" class=\"dataframe\">\n",
       "  <thead>\n",
       "    <tr style=\"text-align: right;\">\n",
       "      <th></th>\n",
       "      <th>age</th>\n",
       "      <th>sex</th>\n",
       "      <th>bmi</th>\n",
       "      <th>children</th>\n",
       "      <th>smoker</th>\n",
       "      <th>region</th>\n",
       "      <th>charges</th>\n",
       "    </tr>\n",
       "  </thead>\n",
       "  <tbody>\n",
       "    <tr>\n",
       "      <th>0</th>\n",
       "      <td>19</td>\n",
       "      <td>0</td>\n",
       "      <td>27.900</td>\n",
       "      <td>0</td>\n",
       "      <td>1</td>\n",
       "      <td>3</td>\n",
       "      <td>16884.92400</td>\n",
       "    </tr>\n",
       "    <tr>\n",
       "      <th>1</th>\n",
       "      <td>18</td>\n",
       "      <td>1</td>\n",
       "      <td>33.770</td>\n",
       "      <td>1</td>\n",
       "      <td>0</td>\n",
       "      <td>2</td>\n",
       "      <td>1725.55230</td>\n",
       "    </tr>\n",
       "    <tr>\n",
       "      <th>2</th>\n",
       "      <td>28</td>\n",
       "      <td>1</td>\n",
       "      <td>33.000</td>\n",
       "      <td>3</td>\n",
       "      <td>0</td>\n",
       "      <td>2</td>\n",
       "      <td>4449.46200</td>\n",
       "    </tr>\n",
       "    <tr>\n",
       "      <th>3</th>\n",
       "      <td>33</td>\n",
       "      <td>1</td>\n",
       "      <td>22.705</td>\n",
       "      <td>0</td>\n",
       "      <td>0</td>\n",
       "      <td>1</td>\n",
       "      <td>21984.47061</td>\n",
       "    </tr>\n",
       "    <tr>\n",
       "      <th>4</th>\n",
       "      <td>32</td>\n",
       "      <td>1</td>\n",
       "      <td>28.880</td>\n",
       "      <td>0</td>\n",
       "      <td>0</td>\n",
       "      <td>1</td>\n",
       "      <td>3866.85520</td>\n",
       "    </tr>\n",
       "    <tr>\n",
       "      <th>...</th>\n",
       "      <td>...</td>\n",
       "      <td>...</td>\n",
       "      <td>...</td>\n",
       "      <td>...</td>\n",
       "      <td>...</td>\n",
       "      <td>...</td>\n",
       "      <td>...</td>\n",
       "    </tr>\n",
       "    <tr>\n",
       "      <th>1333</th>\n",
       "      <td>50</td>\n",
       "      <td>1</td>\n",
       "      <td>30.970</td>\n",
       "      <td>3</td>\n",
       "      <td>0</td>\n",
       "      <td>1</td>\n",
       "      <td>10600.54830</td>\n",
       "    </tr>\n",
       "    <tr>\n",
       "      <th>1334</th>\n",
       "      <td>18</td>\n",
       "      <td>0</td>\n",
       "      <td>31.920</td>\n",
       "      <td>0</td>\n",
       "      <td>0</td>\n",
       "      <td>0</td>\n",
       "      <td>2205.98080</td>\n",
       "    </tr>\n",
       "    <tr>\n",
       "      <th>1335</th>\n",
       "      <td>18</td>\n",
       "      <td>0</td>\n",
       "      <td>36.850</td>\n",
       "      <td>0</td>\n",
       "      <td>0</td>\n",
       "      <td>2</td>\n",
       "      <td>1629.83350</td>\n",
       "    </tr>\n",
       "    <tr>\n",
       "      <th>1336</th>\n",
       "      <td>21</td>\n",
       "      <td>0</td>\n",
       "      <td>25.800</td>\n",
       "      <td>0</td>\n",
       "      <td>0</td>\n",
       "      <td>3</td>\n",
       "      <td>2007.94500</td>\n",
       "    </tr>\n",
       "    <tr>\n",
       "      <th>1337</th>\n",
       "      <td>61</td>\n",
       "      <td>0</td>\n",
       "      <td>29.070</td>\n",
       "      <td>0</td>\n",
       "      <td>1</td>\n",
       "      <td>1</td>\n",
       "      <td>29141.36030</td>\n",
       "    </tr>\n",
       "  </tbody>\n",
       "</table>\n",
       "<p>1338 rows × 7 columns</p>\n",
       "</div>"
      ],
      "text/plain": [
       "      age  sex     bmi  children  smoker  region      charges\n",
       "0      19    0  27.900         0       1       3  16884.92400\n",
       "1      18    1  33.770         1       0       2   1725.55230\n",
       "2      28    1  33.000         3       0       2   4449.46200\n",
       "3      33    1  22.705         0       0       1  21984.47061\n",
       "4      32    1  28.880         0       0       1   3866.85520\n",
       "...   ...  ...     ...       ...     ...     ...          ...\n",
       "1333   50    1  30.970         3       0       1  10600.54830\n",
       "1334   18    0  31.920         0       0       0   2205.98080\n",
       "1335   18    0  36.850         0       0       2   1629.83350\n",
       "1336   21    0  25.800         0       0       3   2007.94500\n",
       "1337   61    0  29.070         0       1       1  29141.36030\n",
       "\n",
       "[1338 rows x 7 columns]"
      ]
     },
     "execution_count": 361,
     "metadata": {},
     "output_type": "execute_result"
    }
   ],
   "source": [
    "# Applying Label encoder to categorical columns region,sex and and smoker for analysis \n",
    "\n",
    "from sklearn.preprocessing import LabelEncoder\n",
    "\n",
    "le = LabelEncoder()\n",
    "\n",
    "for i in medcost.columns:\n",
    "    if(medcost[i].dtypes=='object'):\n",
    "        medcost[i]=le.fit_transform(medcost[i].values.reshape(-1,1))\n",
    "medcost"
   ]
  },
  {
   "cell_type": "code",
   "execution_count": 362,
   "id": "bd7b1bc3",
   "metadata": {},
   "outputs": [
    {
     "data": {
      "text/html": [
       "<div>\n",
       "<style scoped>\n",
       "    .dataframe tbody tr th:only-of-type {\n",
       "        vertical-align: middle;\n",
       "    }\n",
       "\n",
       "    .dataframe tbody tr th {\n",
       "        vertical-align: top;\n",
       "    }\n",
       "\n",
       "    .dataframe thead th {\n",
       "        text-align: right;\n",
       "    }\n",
       "</style>\n",
       "<table border=\"1\" class=\"dataframe\">\n",
       "  <thead>\n",
       "    <tr style=\"text-align: right;\">\n",
       "      <th></th>\n",
       "      <th>age</th>\n",
       "      <th>sex</th>\n",
       "      <th>bmi</th>\n",
       "      <th>children</th>\n",
       "      <th>smoker</th>\n",
       "      <th>region</th>\n",
       "      <th>charges</th>\n",
       "    </tr>\n",
       "  </thead>\n",
       "  <tbody>\n",
       "    <tr>\n",
       "      <th>count</th>\n",
       "      <td>1338.000000</td>\n",
       "      <td>1338.000000</td>\n",
       "      <td>1338.000000</td>\n",
       "      <td>1338.000000</td>\n",
       "      <td>1338.000000</td>\n",
       "      <td>1338.000000</td>\n",
       "      <td>1338.000000</td>\n",
       "    </tr>\n",
       "    <tr>\n",
       "      <th>mean</th>\n",
       "      <td>39.207025</td>\n",
       "      <td>0.505232</td>\n",
       "      <td>30.663397</td>\n",
       "      <td>1.094918</td>\n",
       "      <td>0.204783</td>\n",
       "      <td>1.515695</td>\n",
       "      <td>13270.422265</td>\n",
       "    </tr>\n",
       "    <tr>\n",
       "      <th>std</th>\n",
       "      <td>14.049960</td>\n",
       "      <td>0.500160</td>\n",
       "      <td>6.098187</td>\n",
       "      <td>1.205493</td>\n",
       "      <td>0.403694</td>\n",
       "      <td>1.104885</td>\n",
       "      <td>12110.011237</td>\n",
       "    </tr>\n",
       "    <tr>\n",
       "      <th>min</th>\n",
       "      <td>18.000000</td>\n",
       "      <td>0.000000</td>\n",
       "      <td>15.960000</td>\n",
       "      <td>0.000000</td>\n",
       "      <td>0.000000</td>\n",
       "      <td>0.000000</td>\n",
       "      <td>1121.873900</td>\n",
       "    </tr>\n",
       "    <tr>\n",
       "      <th>25%</th>\n",
       "      <td>27.000000</td>\n",
       "      <td>0.000000</td>\n",
       "      <td>26.296250</td>\n",
       "      <td>0.000000</td>\n",
       "      <td>0.000000</td>\n",
       "      <td>1.000000</td>\n",
       "      <td>4740.287150</td>\n",
       "    </tr>\n",
       "    <tr>\n",
       "      <th>50%</th>\n",
       "      <td>39.000000</td>\n",
       "      <td>1.000000</td>\n",
       "      <td>30.400000</td>\n",
       "      <td>1.000000</td>\n",
       "      <td>0.000000</td>\n",
       "      <td>2.000000</td>\n",
       "      <td>9382.033000</td>\n",
       "    </tr>\n",
       "    <tr>\n",
       "      <th>75%</th>\n",
       "      <td>51.000000</td>\n",
       "      <td>1.000000</td>\n",
       "      <td>34.693750</td>\n",
       "      <td>2.000000</td>\n",
       "      <td>0.000000</td>\n",
       "      <td>2.000000</td>\n",
       "      <td>16639.912515</td>\n",
       "    </tr>\n",
       "    <tr>\n",
       "      <th>max</th>\n",
       "      <td>64.000000</td>\n",
       "      <td>1.000000</td>\n",
       "      <td>53.130000</td>\n",
       "      <td>5.000000</td>\n",
       "      <td>1.000000</td>\n",
       "      <td>3.000000</td>\n",
       "      <td>63770.428010</td>\n",
       "    </tr>\n",
       "  </tbody>\n",
       "</table>\n",
       "</div>"
      ],
      "text/plain": [
       "               age          sex          bmi     children       smoker  \\\n",
       "count  1338.000000  1338.000000  1338.000000  1338.000000  1338.000000   \n",
       "mean     39.207025     0.505232    30.663397     1.094918     0.204783   \n",
       "std      14.049960     0.500160     6.098187     1.205493     0.403694   \n",
       "min      18.000000     0.000000    15.960000     0.000000     0.000000   \n",
       "25%      27.000000     0.000000    26.296250     0.000000     0.000000   \n",
       "50%      39.000000     1.000000    30.400000     1.000000     0.000000   \n",
       "75%      51.000000     1.000000    34.693750     2.000000     0.000000   \n",
       "max      64.000000     1.000000    53.130000     5.000000     1.000000   \n",
       "\n",
       "            region       charges  \n",
       "count  1338.000000   1338.000000  \n",
       "mean      1.515695  13270.422265  \n",
       "std       1.104885  12110.011237  \n",
       "min       0.000000   1121.873900  \n",
       "25%       1.000000   4740.287150  \n",
       "50%       2.000000   9382.033000  \n",
       "75%       2.000000  16639.912515  \n",
       "max       3.000000  63770.428010  "
      ]
     },
     "execution_count": 362,
     "metadata": {},
     "output_type": "execute_result"
    }
   ],
   "source": [
    "# Checking the datset with describe function\n",
    "\n",
    "\n",
    "medcost.describe()"
   ]
  },
  {
   "cell_type": "markdown",
   "id": "b2db7709",
   "metadata": {},
   "source": [
    "Analysis:\n",
    "\n",
    "Count is same as we dont see any missing values\n",
    "\n",
    "We dont find much skewness comparing mean and median\n",
    "\n",
    "even we dont find much outliers, but we will do further analysis on the dataset"
   ]
  },
  {
   "cell_type": "code",
   "execution_count": 363,
   "id": "4348ae66",
   "metadata": {},
   "outputs": [
    {
     "data": {
      "text/plain": [
       "region     -0.006208\n",
       "sex         0.057292\n",
       "children    0.067998\n",
       "bmi         0.198341\n",
       "age         0.299008\n",
       "smoker      0.787251\n",
       "charges     1.000000\n",
       "Name: charges, dtype: float64"
      ]
     },
     "execution_count": 363,
     "metadata": {},
     "output_type": "execute_result"
    }
   ],
   "source": [
    "# Checking the correlation of the dataset\n",
    "\n",
    "medcost.corr()['charges'].sort_values()"
   ]
  },
  {
   "cell_type": "code",
   "execution_count": 364,
   "id": "21f4b176",
   "metadata": {},
   "outputs": [
    {
     "data": {
      "text/plain": [
       "<AxesSubplot:>"
      ]
     },
     "execution_count": 364,
     "metadata": {},
     "output_type": "execute_result"
    },
    {
     "data": {
      "image/png": "[encoded data removed]",
      "text/plain": [
       "<Figure size 864x432 with 2 Axes>"
      ]
     },
     "metadata": {
      "needs_background": "light"
     },
     "output_type": "display_data"
    }
   ],
   "source": [
    "# Visualizing correlation by heatmap\n",
    "\n",
    "plt.figure(figsize=(12,6))\n",
    "sns.heatmap(medcost.corr(),annot=True)"
   ]
  },
  {
   "cell_type": "markdown",
   "id": "e9ad8d6f",
   "metadata": {},
   "source": [
    "Analysis:\n",
    "    \n",
    "Smoker is highly positively correlated with charges\n",
    "\n",
    "sex vs age, smoker vs age, region vs smoker are negatively correlated to one another\n",
    "\n",
    "Moreover these are categorical columns which has been encoded"
   ]
  },
  {
   "cell_type": "code",
   "execution_count": 365,
   "id": "cd96c864",
   "metadata": {},
   "outputs": [
    {
     "data": {
      "text/plain": [
       "age         0.055673\n",
       "sex        -0.020951\n",
       "bmi         0.284047\n",
       "children    0.938380\n",
       "smoker      1.464766\n",
       "region     -0.038101\n",
       "charges     1.515880\n",
       "dtype: float64"
      ]
     },
     "execution_count": 365,
     "metadata": {},
     "output_type": "execute_result"
    }
   ],
   "source": [
    "# Checking skewness\n",
    "\n",
    "medcost.skew()"
   ]
  },
  {
   "cell_type": "markdown",
   "id": "6f2d9e61",
   "metadata": {},
   "source": [
    "Analysis:\n",
    "    \n",
    "Skewness is high in smoker and children.\n",
    "\n",
    "We cannot apply power transform to reduce skewness in categorical data"
   ]
  },
  {
   "cell_type": "code",
   "execution_count": 366,
   "id": "f96b2dee",
   "metadata": {},
   "outputs": [
    {
     "data": {
      "text/html": [
       "<div>\n",
       "<style scoped>\n",
       "    .dataframe tbody tr th:only-of-type {\n",
       "        vertical-align: middle;\n",
       "    }\n",
       "\n",
       "    .dataframe tbody tr th {\n",
       "        vertical-align: top;\n",
       "    }\n",
       "\n",
       "    .dataframe thead th {\n",
       "        text-align: right;\n",
       "    }\n",
       "</style>\n",
       "<table border=\"1\" class=\"dataframe\">\n",
       "  <thead>\n",
       "    <tr style=\"text-align: right;\">\n",
       "      <th></th>\n",
       "      <th>age</th>\n",
       "      <th>sex</th>\n",
       "      <th>bmi</th>\n",
       "      <th>children</th>\n",
       "      <th>smoker</th>\n",
       "      <th>region</th>\n",
       "      <th>charges</th>\n",
       "    </tr>\n",
       "  </thead>\n",
       "  <tbody>\n",
       "    <tr>\n",
       "      <th>0</th>\n",
       "      <td>19</td>\n",
       "      <td>0</td>\n",
       "      <td>27.900</td>\n",
       "      <td>0</td>\n",
       "      <td>1</td>\n",
       "      <td>3</td>\n",
       "      <td>16884.92400</td>\n",
       "    </tr>\n",
       "    <tr>\n",
       "      <th>1</th>\n",
       "      <td>18</td>\n",
       "      <td>1</td>\n",
       "      <td>33.770</td>\n",
       "      <td>1</td>\n",
       "      <td>0</td>\n",
       "      <td>2</td>\n",
       "      <td>1725.55230</td>\n",
       "    </tr>\n",
       "    <tr>\n",
       "      <th>2</th>\n",
       "      <td>28</td>\n",
       "      <td>1</td>\n",
       "      <td>33.000</td>\n",
       "      <td>3</td>\n",
       "      <td>0</td>\n",
       "      <td>2</td>\n",
       "      <td>4449.46200</td>\n",
       "    </tr>\n",
       "    <tr>\n",
       "      <th>3</th>\n",
       "      <td>33</td>\n",
       "      <td>1</td>\n",
       "      <td>22.705</td>\n",
       "      <td>0</td>\n",
       "      <td>0</td>\n",
       "      <td>1</td>\n",
       "      <td>21984.47061</td>\n",
       "    </tr>\n",
       "    <tr>\n",
       "      <th>4</th>\n",
       "      <td>32</td>\n",
       "      <td>1</td>\n",
       "      <td>28.880</td>\n",
       "      <td>0</td>\n",
       "      <td>0</td>\n",
       "      <td>1</td>\n",
       "      <td>3866.85520</td>\n",
       "    </tr>\n",
       "    <tr>\n",
       "      <th>...</th>\n",
       "      <td>...</td>\n",
       "      <td>...</td>\n",
       "      <td>...</td>\n",
       "      <td>...</td>\n",
       "      <td>...</td>\n",
       "      <td>...</td>\n",
       "      <td>...</td>\n",
       "    </tr>\n",
       "    <tr>\n",
       "      <th>1333</th>\n",
       "      <td>50</td>\n",
       "      <td>1</td>\n",
       "      <td>30.970</td>\n",
       "      <td>3</td>\n",
       "      <td>0</td>\n",
       "      <td>1</td>\n",
       "      <td>10600.54830</td>\n",
       "    </tr>\n",
       "    <tr>\n",
       "      <th>1334</th>\n",
       "      <td>18</td>\n",
       "      <td>0</td>\n",
       "      <td>31.920</td>\n",
       "      <td>0</td>\n",
       "      <td>0</td>\n",
       "      <td>0</td>\n",
       "      <td>2205.98080</td>\n",
       "    </tr>\n",
       "    <tr>\n",
       "      <th>1335</th>\n",
       "      <td>18</td>\n",
       "      <td>0</td>\n",
       "      <td>36.850</td>\n",
       "      <td>0</td>\n",
       "      <td>0</td>\n",
       "      <td>2</td>\n",
       "      <td>1629.83350</td>\n",
       "    </tr>\n",
       "    <tr>\n",
       "      <th>1336</th>\n",
       "      <td>21</td>\n",
       "      <td>0</td>\n",
       "      <td>25.800</td>\n",
       "      <td>0</td>\n",
       "      <td>0</td>\n",
       "      <td>3</td>\n",
       "      <td>2007.94500</td>\n",
       "    </tr>\n",
       "    <tr>\n",
       "      <th>1337</th>\n",
       "      <td>61</td>\n",
       "      <td>0</td>\n",
       "      <td>29.070</td>\n",
       "      <td>0</td>\n",
       "      <td>1</td>\n",
       "      <td>1</td>\n",
       "      <td>29141.36030</td>\n",
       "    </tr>\n",
       "  </tbody>\n",
       "</table>\n",
       "<p>1338 rows × 7 columns</p>\n",
       "</div>"
      ],
      "text/plain": [
       "      age  sex     bmi  children  smoker  region      charges\n",
       "0      19    0  27.900         0       1       3  16884.92400\n",
       "1      18    1  33.770         1       0       2   1725.55230\n",
       "2      28    1  33.000         3       0       2   4449.46200\n",
       "3      33    1  22.705         0       0       1  21984.47061\n",
       "4      32    1  28.880         0       0       1   3866.85520\n",
       "...   ...  ...     ...       ...     ...     ...          ...\n",
       "1333   50    1  30.970         3       0       1  10600.54830\n",
       "1334   18    0  31.920         0       0       0   2205.98080\n",
       "1335   18    0  36.850         0       0       2   1629.83350\n",
       "1336   21    0  25.800         0       0       3   2007.94500\n",
       "1337   61    0  29.070         0       1       1  29141.36030\n",
       "\n",
       "[1338 rows x 7 columns]"
      ]
     },
     "execution_count": 366,
     "metadata": {},
     "output_type": "execute_result"
    }
   ],
   "source": [
    "# Checking outliers using Z score\n",
    "\n",
    "from scipy.stats import zscore\n",
    "\n",
    "\n",
    "z1 = medcost[medcost.columns]\n",
    "z1"
   ]
  },
  {
   "cell_type": "code",
   "execution_count": 367,
   "id": "d9388c15",
   "metadata": {},
   "outputs": [
    {
     "name": "stdout",
     "output_type": "stream",
     "text": [
      "(array([  32,   34,   71,  116,  166,  413,  425,  438,  543,  568,  577,\n",
      "        640,  819,  847,  877,  932,  937,  969,  984, 1047, 1085, 1116,\n",
      "       1130, 1146, 1230, 1245, 1272, 1300, 1317], dtype=int64), array([3, 6, 3, 2, 3, 3, 3, 3, 6, 3, 6, 3, 6, 2, 3, 3, 3, 3, 3, 2, 3, 3,\n",
      "       3, 6, 6, 3, 3, 6, 2], dtype=int64))\n"
     ]
    }
   ],
   "source": [
    "z = np.abs(zscore(z1))\n",
    "threshold = 3\n",
    "print(np.where(z>3))"
   ]
  },
  {
   "cell_type": "code",
   "execution_count": 368,
   "id": "39b9fb68",
   "metadata": {},
   "outputs": [],
   "source": [
    "medcost_new = z1[(z<3).all(axis=1)]"
   ]
  },
  {
   "cell_type": "code",
   "execution_count": 369,
   "id": "be1f6aa2",
   "metadata": {},
   "outputs": [
    {
     "data": {
      "text/plain": [
       "(1338, 7)"
      ]
     },
     "execution_count": 369,
     "metadata": {},
     "output_type": "execute_result"
    }
   ],
   "source": [
    "medcost.shape"
   ]
  },
  {
   "cell_type": "code",
   "execution_count": 370,
   "id": "586ac2cc",
   "metadata": {},
   "outputs": [
    {
     "data": {
      "text/plain": [
       "(1309, 7)"
      ]
     },
     "execution_count": 370,
     "metadata": {},
     "output_type": "execute_result"
    }
   ],
   "source": [
    "medcost_new.shape"
   ]
  },
  {
   "cell_type": "code",
   "execution_count": 371,
   "id": "3745883e",
   "metadata": {},
   "outputs": [
    {
     "data": {
      "text/plain": [
       "2.167414050822123"
      ]
     },
     "execution_count": 371,
     "metadata": {},
     "output_type": "execute_result"
    }
   ],
   "source": [
    "# Checking the dataloss\n",
    "\n",
    "dataloss = (1338-1309)/1338*100\n",
    "dataloss"
   ]
  },
  {
   "cell_type": "markdown",
   "id": "f76bac25",
   "metadata": {},
   "source": [
    "We got 2% of dataloss by removing outliers"
   ]
  },
  {
   "cell_type": "code",
   "execution_count": 372,
   "id": "a4f05ba0",
   "metadata": {},
   "outputs": [
    {
     "data": {
      "text/html": [
       "<div>\n",
       "<style scoped>\n",
       "    .dataframe tbody tr th:only-of-type {\n",
       "        vertical-align: middle;\n",
       "    }\n",
       "\n",
       "    .dataframe tbody tr th {\n",
       "        vertical-align: top;\n",
       "    }\n",
       "\n",
       "    .dataframe thead th {\n",
       "        text-align: right;\n",
       "    }\n",
       "</style>\n",
       "<table border=\"1\" class=\"dataframe\">\n",
       "  <thead>\n",
       "    <tr style=\"text-align: right;\">\n",
       "      <th></th>\n",
       "      <th>age</th>\n",
       "      <th>sex</th>\n",
       "      <th>bmi</th>\n",
       "      <th>children</th>\n",
       "      <th>smoker</th>\n",
       "      <th>region</th>\n",
       "    </tr>\n",
       "  </thead>\n",
       "  <tbody>\n",
       "    <tr>\n",
       "      <th>0</th>\n",
       "      <td>19</td>\n",
       "      <td>0</td>\n",
       "      <td>27.900</td>\n",
       "      <td>0</td>\n",
       "      <td>1</td>\n",
       "      <td>3</td>\n",
       "    </tr>\n",
       "    <tr>\n",
       "      <th>1</th>\n",
       "      <td>18</td>\n",
       "      <td>1</td>\n",
       "      <td>33.770</td>\n",
       "      <td>1</td>\n",
       "      <td>0</td>\n",
       "      <td>2</td>\n",
       "    </tr>\n",
       "    <tr>\n",
       "      <th>2</th>\n",
       "      <td>28</td>\n",
       "      <td>1</td>\n",
       "      <td>33.000</td>\n",
       "      <td>3</td>\n",
       "      <td>0</td>\n",
       "      <td>2</td>\n",
       "    </tr>\n",
       "    <tr>\n",
       "      <th>3</th>\n",
       "      <td>33</td>\n",
       "      <td>1</td>\n",
       "      <td>22.705</td>\n",
       "      <td>0</td>\n",
       "      <td>0</td>\n",
       "      <td>1</td>\n",
       "    </tr>\n",
       "    <tr>\n",
       "      <th>4</th>\n",
       "      <td>32</td>\n",
       "      <td>1</td>\n",
       "      <td>28.880</td>\n",
       "      <td>0</td>\n",
       "      <td>0</td>\n",
       "      <td>1</td>\n",
       "    </tr>\n",
       "    <tr>\n",
       "      <th>...</th>\n",
       "      <td>...</td>\n",
       "      <td>...</td>\n",
       "      <td>...</td>\n",
       "      <td>...</td>\n",
       "      <td>...</td>\n",
       "      <td>...</td>\n",
       "    </tr>\n",
       "    <tr>\n",
       "      <th>1333</th>\n",
       "      <td>50</td>\n",
       "      <td>1</td>\n",
       "      <td>30.970</td>\n",
       "      <td>3</td>\n",
       "      <td>0</td>\n",
       "      <td>1</td>\n",
       "    </tr>\n",
       "    <tr>\n",
       "      <th>1334</th>\n",
       "      <td>18</td>\n",
       "      <td>0</td>\n",
       "      <td>31.920</td>\n",
       "      <td>0</td>\n",
       "      <td>0</td>\n",
       "      <td>0</td>\n",
       "    </tr>\n",
       "    <tr>\n",
       "      <th>1335</th>\n",
       "      <td>18</td>\n",
       "      <td>0</td>\n",
       "      <td>36.850</td>\n",
       "      <td>0</td>\n",
       "      <td>0</td>\n",
       "      <td>2</td>\n",
       "    </tr>\n",
       "    <tr>\n",
       "      <th>1336</th>\n",
       "      <td>21</td>\n",
       "      <td>0</td>\n",
       "      <td>25.800</td>\n",
       "      <td>0</td>\n",
       "      <td>0</td>\n",
       "      <td>3</td>\n",
       "    </tr>\n",
       "    <tr>\n",
       "      <th>1337</th>\n",
       "      <td>61</td>\n",
       "      <td>0</td>\n",
       "      <td>29.070</td>\n",
       "      <td>0</td>\n",
       "      <td>1</td>\n",
       "      <td>1</td>\n",
       "    </tr>\n",
       "  </tbody>\n",
       "</table>\n",
       "<p>1309 rows × 6 columns</p>\n",
       "</div>"
      ],
      "text/plain": [
       "      age  sex     bmi  children  smoker  region\n",
       "0      19    0  27.900         0       1       3\n",
       "1      18    1  33.770         1       0       2\n",
       "2      28    1  33.000         3       0       2\n",
       "3      33    1  22.705         0       0       1\n",
       "4      32    1  28.880         0       0       1\n",
       "...   ...  ...     ...       ...     ...     ...\n",
       "1333   50    1  30.970         3       0       1\n",
       "1334   18    0  31.920         0       0       0\n",
       "1335   18    0  36.850         0       0       2\n",
       "1336   21    0  25.800         0       0       3\n",
       "1337   61    0  29.070         0       1       1\n",
       "\n",
       "[1309 rows x 6 columns]"
      ]
     },
     "execution_count": 372,
     "metadata": {},
     "output_type": "execute_result"
    }
   ],
   "source": [
    "# Checking Variance inflation factor for the dataset \n",
    "\n",
    "from statsmodels.stats.outliers_influence import variance_inflation_factor\n",
    "\n",
    "x = medcost_new.iloc[:,0:6]\n",
    "x"
   ]
  },
  {
   "cell_type": "code",
   "execution_count": 373,
   "id": "4783066e",
   "metadata": {},
   "outputs": [
    {
     "name": "stdout",
     "output_type": "stream",
     "text": [
      "   VIF Factor  Features\n",
      "0    7.660034       age\n",
      "1    1.990722       sex\n",
      "2   10.534373       bmi\n",
      "3    1.851725  children\n",
      "4    1.254028    smoker\n",
      "5    2.903540    region\n"
     ]
    }
   ],
   "source": [
    "vif = pd.DataFrame()\n",
    "vif['VIF Factor'] = [variance_inflation_factor(x.values,i) for i in range(len(x.columns))]\n",
    "vif['Features'] = x.columns\n",
    "print(vif)"
   ]
  },
  {
   "cell_type": "markdown",
   "id": "ded8844c",
   "metadata": {},
   "source": [
    "Analysis:\n",
    "    \n",
    "BMI and Age got high vif values compared with other columns"
   ]
  },
  {
   "cell_type": "code",
   "execution_count": 374,
   "id": "16dd2431",
   "metadata": {},
   "outputs": [
    {
     "data": {
      "text/html": [
       "<div>\n",
       "<style scoped>\n",
       "    .dataframe tbody tr th:only-of-type {\n",
       "        vertical-align: middle;\n",
       "    }\n",
       "\n",
       "    .dataframe tbody tr th {\n",
       "        vertical-align: top;\n",
       "    }\n",
       "\n",
       "    .dataframe thead th {\n",
       "        text-align: right;\n",
       "    }\n",
       "</style>\n",
       "<table border=\"1\" class=\"dataframe\">\n",
       "  <thead>\n",
       "    <tr style=\"text-align: right;\">\n",
       "      <th></th>\n",
       "      <th>age</th>\n",
       "      <th>sex</th>\n",
       "      <th>bmi</th>\n",
       "      <th>children</th>\n",
       "      <th>smoker</th>\n",
       "      <th>region</th>\n",
       "    </tr>\n",
       "  </thead>\n",
       "  <tbody>\n",
       "    <tr>\n",
       "      <th>0</th>\n",
       "      <td>-1.439063</td>\n",
       "      <td>-1.005362</td>\n",
       "      <td>-0.449359</td>\n",
       "      <td>-0.929616</td>\n",
       "      <td>1.984848</td>\n",
       "      <td>1.352753</td>\n",
       "    </tr>\n",
       "    <tr>\n",
       "      <th>1</th>\n",
       "      <td>-1.510086</td>\n",
       "      <td>0.994667</td>\n",
       "      <td>0.533391</td>\n",
       "      <td>-0.040093</td>\n",
       "      <td>-0.503817</td>\n",
       "      <td>0.447460</td>\n",
       "    </tr>\n",
       "    <tr>\n",
       "      <th>2</th>\n",
       "      <td>-0.799859</td>\n",
       "      <td>0.994667</td>\n",
       "      <td>0.404478</td>\n",
       "      <td>1.738954</td>\n",
       "      <td>-0.503817</td>\n",
       "      <td>0.447460</td>\n",
       "    </tr>\n",
       "    <tr>\n",
       "      <th>3</th>\n",
       "      <td>-0.444746</td>\n",
       "      <td>0.994667</td>\n",
       "      <td>-1.319101</td>\n",
       "      <td>-0.929616</td>\n",
       "      <td>-0.503817</td>\n",
       "      <td>-0.457833</td>\n",
       "    </tr>\n",
       "    <tr>\n",
       "      <th>4</th>\n",
       "      <td>-0.515769</td>\n",
       "      <td>0.994667</td>\n",
       "      <td>-0.285288</td>\n",
       "      <td>-0.929616</td>\n",
       "      <td>-0.503817</td>\n",
       "      <td>-0.457833</td>\n",
       "    </tr>\n",
       "    <tr>\n",
       "      <th>...</th>\n",
       "      <td>...</td>\n",
       "      <td>...</td>\n",
       "      <td>...</td>\n",
       "      <td>...</td>\n",
       "      <td>...</td>\n",
       "      <td>...</td>\n",
       "    </tr>\n",
       "    <tr>\n",
       "      <th>1304</th>\n",
       "      <td>0.762639</td>\n",
       "      <td>0.994667</td>\n",
       "      <td>0.064617</td>\n",
       "      <td>1.738954</td>\n",
       "      <td>-0.503817</td>\n",
       "      <td>-0.457833</td>\n",
       "    </tr>\n",
       "    <tr>\n",
       "      <th>1305</th>\n",
       "      <td>-1.510086</td>\n",
       "      <td>-1.005362</td>\n",
       "      <td>0.223666</td>\n",
       "      <td>-0.929616</td>\n",
       "      <td>-0.503817</td>\n",
       "      <td>-1.363127</td>\n",
       "    </tr>\n",
       "    <tr>\n",
       "      <th>1306</th>\n",
       "      <td>-1.510086</td>\n",
       "      <td>-1.005362</td>\n",
       "      <td>1.049041</td>\n",
       "      <td>-0.929616</td>\n",
       "      <td>-0.503817</td>\n",
       "      <td>0.447460</td>\n",
       "    </tr>\n",
       "    <tr>\n",
       "      <th>1307</th>\n",
       "      <td>-1.297018</td>\n",
       "      <td>-1.005362</td>\n",
       "      <td>-0.800939</td>\n",
       "      <td>-0.929616</td>\n",
       "      <td>-0.503817</td>\n",
       "      <td>1.352753</td>\n",
       "    </tr>\n",
       "    <tr>\n",
       "      <th>1308</th>\n",
       "      <td>1.543888</td>\n",
       "      <td>-1.005362</td>\n",
       "      <td>-0.253479</td>\n",
       "      <td>-0.929616</td>\n",
       "      <td>1.984848</td>\n",
       "      <td>-0.457833</td>\n",
       "    </tr>\n",
       "  </tbody>\n",
       "</table>\n",
       "<p>1309 rows × 6 columns</p>\n",
       "</div>"
      ],
      "text/plain": [
       "           age       sex       bmi  children    smoker    region\n",
       "0    -1.439063 -1.005362 -0.449359 -0.929616  1.984848  1.352753\n",
       "1    -1.510086  0.994667  0.533391 -0.040093 -0.503817  0.447460\n",
       "2    -0.799859  0.994667  0.404478  1.738954 -0.503817  0.447460\n",
       "3    -0.444746  0.994667 -1.319101 -0.929616 -0.503817 -0.457833\n",
       "4    -0.515769  0.994667 -0.285288 -0.929616 -0.503817 -0.457833\n",
       "...        ...       ...       ...       ...       ...       ...\n",
       "1304  0.762639  0.994667  0.064617  1.738954 -0.503817 -0.457833\n",
       "1305 -1.510086 -1.005362  0.223666 -0.929616 -0.503817 -1.363127\n",
       "1306 -1.510086 -1.005362  1.049041 -0.929616 -0.503817  0.447460\n",
       "1307 -1.297018 -1.005362 -0.800939 -0.929616 -0.503817  1.352753\n",
       "1308  1.543888 -1.005362 -0.253479 -0.929616  1.984848 -0.457833\n",
       "\n",
       "[1309 rows x 6 columns]"
      ]
     },
     "execution_count": 374,
     "metadata": {},
     "output_type": "execute_result"
    }
   ],
   "source": [
    "# Applying Scaling method\n",
    "\n",
    "from sklearn.preprocessing import StandardScaler\n",
    "\n",
    "st = StandardScaler()\n",
    "x1 = pd.DataFrame(st.fit_transform(x),columns=x.columns)\n",
    "x1"
   ]
  },
  {
   "cell_type": "code",
   "execution_count": 375,
   "id": "84a215af",
   "metadata": {},
   "outputs": [
    {
     "name": "stdout",
     "output_type": "stream",
     "text": [
      "   VIF Factor  Features\n",
      "0    1.019082       age\n",
      "1    1.008815       sex\n",
      "2    1.043841       bmi\n",
      "3    1.005176  children\n",
      "4    1.007983    smoker\n",
      "5    1.026656    region\n"
     ]
    }
   ],
   "source": [
    "# Checking VIF after applying scaling method\n",
    "\n",
    "vif = pd.DataFrame()\n",
    "vif['VIF Factor'] = [variance_inflation_factor(x1.values,i) for i in range(len(x1.columns))]\n",
    "vif['Features'] = x1.columns\n",
    "print(vif)"
   ]
  },
  {
   "cell_type": "code",
   "execution_count": null,
   "id": "9f8a4f4f",
   "metadata": {},
   "outputs": [],
   "source": []
  },
  {
   "cell_type": "markdown",
   "id": "63d0a156",
   "metadata": {},
   "source": [
    "# Model Evaluation"
   ]
  },
  {
   "cell_type": "code",
   "execution_count": 376,
   "id": "bf3d6a22",
   "metadata": {},
   "outputs": [],
   "source": [
    "# Splitting X and Y variables for further analysis"
   ]
  },
  {
   "cell_type": "code",
   "execution_count": 377,
   "id": "e58efe9b",
   "metadata": {},
   "outputs": [
    {
     "data": {
      "text/plain": [
       "(1309, 6)"
      ]
     },
     "execution_count": 377,
     "metadata": {},
     "output_type": "execute_result"
    }
   ],
   "source": [
    "x1.shape"
   ]
  },
  {
   "cell_type": "code",
   "execution_count": 378,
   "id": "24dedaf9",
   "metadata": {},
   "outputs": [
    {
     "data": {
      "text/plain": [
       "(1309,)"
      ]
     },
     "execution_count": 378,
     "metadata": {},
     "output_type": "execute_result"
    }
   ],
   "source": [
    "y = medcost_new['charges']\n",
    "y.shape"
   ]
  },
  {
   "cell_type": "code",
   "execution_count": 379,
   "id": "c95a513c",
   "metadata": {},
   "outputs": [],
   "source": [
    "# Importing required Libraries\n",
    "\n",
    "from sklearn.model_selection import train_test_split\n",
    "from sklearn.ensemble import RandomForestRegressor\n",
    "from sklearn.metrics import mean_squared_error,mean_absolute_error,r2_score\n",
    "from sklearn.linear_model import LinearRegression"
   ]
  },
  {
   "cell_type": "code",
   "execution_count": 380,
   "id": "259d5d59",
   "metadata": {},
   "outputs": [
    {
     "name": "stdout",
     "output_type": "stream",
     "text": [
      "Max r2 score is  90.40848337134554 on Random state 27\n"
     ]
    }
   ],
   "source": [
    "maxAcc = 0\n",
    "maxRS = 0\n",
    "\n",
    "for i in range(1,200):\n",
    "    x1_train,x1_test,y_train,y_test = train_test_split(x1,y,test_size=.30,random_state=i)\n",
    "    rf = RandomForestRegressor()\n",
    "    rf.fit(x1_train,y_train)\n",
    "    predrf = rf.predict(x1_test)\n",
    "    acc = r2_score(y_test,predrf)\n",
    "    if acc > maxAcc:\n",
    "        maxAcc = acc\n",
    "        maxRS = i\n",
    "print(\"Max r2 score is \", maxAcc*100, \"on Random state\", maxRS)\n",
    "    "
   ]
  },
  {
   "cell_type": "markdown",
   "id": "2c15c1bb",
   "metadata": {},
   "source": [
    "Based on Model evaluation wee can see the R2 score is 90% and Best Random state is 27"
   ]
  },
  {
   "cell_type": "markdown",
   "id": "c4d2e201",
   "metadata": {},
   "source": [
    "# Creating training model"
   ]
  },
  {
   "cell_type": "code",
   "execution_count": 381,
   "id": "6f38e649",
   "metadata": {},
   "outputs": [],
   "source": [
    "x1_train,x1_test,y_train,y_test = train_test_split(x1,y,test_size=.30, random_state=27)"
   ]
  },
  {
   "cell_type": "markdown",
   "id": "5c7c4a84",
   "metadata": {},
   "source": [
    "# Regularization with L1 and L2"
   ]
  },
  {
   "cell_type": "code",
   "execution_count": 382,
   "id": "e8c73a89",
   "metadata": {},
   "outputs": [],
   "source": [
    "from sklearn.linear_model import Lasso,Ridge"
   ]
  },
  {
   "cell_type": "code",
   "execution_count": 385,
   "id": "78c5ab84",
   "metadata": {},
   "outputs": [
    {
     "data": {
      "text/plain": [
       "0.7238854306117612"
      ]
     },
     "execution_count": 385,
     "metadata": {},
     "output_type": "execute_result"
    }
   ],
   "source": [
    "ls = Lasso(0.0001)\n",
    "ls.fit(x1_train,y_train)\n",
    "ls.score(x1_train,y_train)"
   ]
  },
  {
   "cell_type": "code",
   "execution_count": 387,
   "id": "be8d8cad",
   "metadata": {},
   "outputs": [
    {
     "data": {
      "text/plain": [
       "0.7238854306117528"
      ]
     },
     "execution_count": 387,
     "metadata": {},
     "output_type": "execute_result"
    }
   ],
   "source": [
    "rd = Ridge(alpha = 0.0001) \n",
    "rd.fit(x1_train,y_train)\n",
    "rd.score(x1_train,y_train)"
   ]
  },
  {
   "cell_type": "markdown",
   "id": "3e4607b7",
   "metadata": {},
   "source": [
    "# Model Selection"
   ]
  },
  {
   "cell_type": "code",
   "execution_count": 388,
   "id": "187a300d",
   "metadata": {},
   "outputs": [
    {
     "name": "stdout",
     "output_type": "stream",
     "text": [
      "R2_score of LinearRegression() is: 81.63956888560486\n",
      "Mean absolute error:  3779.4309941230854\n",
      "Mean squared error:  25743369.30524331\n",
      "Root Mean absolute error:  5073.792398713541\n",
      "*************************************************************\n",
      "R2_score of RandomForestRegressor() is: 90.23177548573898\n",
      "Mean absolute error:  2194.222297938169\n",
      "Mean squared error:  13696138.69959703\n",
      "Root Mean absolute error:  3700.82946102587\n",
      "*************************************************************\n",
      "R2_score of SVR() is: -5.252297700992403\n",
      "Mean absolute error:  8039.744863193482\n",
      "Mean squared error:  147575443.7932392\n",
      "Root Mean absolute error:  12148.063376243936\n",
      "*************************************************************\n",
      "R2_score of DecisionTreeRegressor() is: 68.74594814856158\n",
      "Mean absolute error:  3136.0141478854957\n",
      "Mean squared error:  43821661.59845693\n",
      "Root Mean absolute error:  6619.79316885784\n",
      "*************************************************************\n",
      "R2_score of GradientBoostingRegressor() is: 91.83111927708474\n",
      "Mean absolute error:  2083.4979678257405\n",
      "Mean squared error:  11453680.578100003\n",
      "Root Mean absolute error:  3384.328674656172\n",
      "*************************************************************\n",
      "R2_score of KNeighborsRegressor() is: 87.75827646724643\n",
      "Mean absolute error:  2713.4584679414756\n",
      "Mean squared error:  17164259.80810882\n",
      "Root Mean absolute error:  4142.97716722031\n",
      "*************************************************************\n",
      "R2_score of BaggingRegressor() is: 89.1724045907335\n",
      "Mean absolute error:  2256.9741901374045\n",
      "Mean squared error:  15181494.681242255\n",
      "Root Mean absolute error:  3896.3437580945365\n",
      "*************************************************************\n",
      "R2_score of SGDRegressor() is: 81.62455463572111\n",
      "Mean absolute error:  3780.339600094716\n",
      "Mean squared error:  25764420.955784105\n",
      "Root Mean absolute error:  5075.866522652473\n",
      "*************************************************************\n",
      "R2_score of AdaBoostRegressor() is: 86.1416182371295\n",
      "Mean absolute error:  3670.284122460913\n",
      "Mean squared error:  19430994.701149054\n",
      "Root Mean absolute error:  4408.060197087723\n",
      "*************************************************************\n",
      "R2_score of AdaBoostRegressor() is: 87.17234978772628\n",
      "Mean absolute error:  3626.753825229201\n",
      "Mean squared error:  17985794.270055965\n",
      "Root Mean absolute error:  4240.966195344637\n",
      "*************************************************************\n"
     ]
    }
   ],
   "source": [
    "from sklearn.ensemble import RandomForestRegressor\n",
    "from sklearn.svm import SVR\n",
    "from sklearn.tree import DecisionTreeRegressor\n",
    "from sklearn.ensemble import GradientBoostingRegressor\n",
    "from sklearn.neighbors import KNeighborsRegressor\n",
    "from sklearn.ensemble import BaggingRegressor\n",
    "from sklearn.linear_model import SGDRegressor\n",
    "from sklearn.ensemble import AdaBoostRegressor\n",
    "from sklearn.ensemble import ExtraTreesRegressor\n",
    "\n",
    "LR = LinearRegression()\n",
    "RFR = RandomForestRegressor()\n",
    "svr = SVR()\n",
    "DTR = DecisionTreeRegressor()\n",
    "GBR = GradientBoostingRegressor()\n",
    "KNR = KNeighborsRegressor()\n",
    "BR = BaggingRegressor()\n",
    "SR = SGDRegressor()\n",
    "ABR = AdaBoostRegressor()\n",
    "ETR = AdaBoostRegressor()\n",
    "\n",
    "Model = [LR,RFR,svr,DTR,GBR,KNR,BR,SR,ABR,ETR]\n",
    "\n",
    "for m in Model:\n",
    "    m.fit(x1_train,y_train)\n",
    "    m.score(x1_train,y_train)\n",
    "    predmod = m.predict(x1_test)\n",
    "    score = r2_score(y_test,predmod)\n",
    "    print(\"R2_score of\", m,\"is:\",score*100)\n",
    "    print(\"Mean absolute error: \", mean_absolute_error(y_test,predmod))\n",
    "    print(\"Mean squared error: \", mean_squared_error(y_test,predmod))\n",
    "    print(\"Root Mean absolute error: \",np.sqrt(mean_squared_error(y_test,predmod)))\n",
    "    print('*************************************************************')"
   ]
  },
  {
   "cell_type": "markdown",
   "id": "f40e5949",
   "metadata": {},
   "source": [
    "Gradient Boosting Regressor is performing well with  R2 score of 91.8%\n",
    "\n",
    "R2_score of GradientBoostingRegressor() is: 91.83111927708474\n",
    "    \n",
    "Mean absolute error:  2083.4979678257405\n",
    "    \n",
    "Mean squared error:  11453680.578100003\n",
    "    \n",
    "Root Mean absolute error:  3384.328674656172"
   ]
  },
  {
   "cell_type": "markdown",
   "id": "26a54442",
   "metadata": {},
   "source": [
    "# Cross Validation Score"
   ]
  },
  {
   "cell_type": "code",
   "execution_count": 389,
   "id": "2682c72e",
   "metadata": {},
   "outputs": [
    {
     "name": "stdout",
     "output_type": "stream",
     "text": [
      "CV score of Linear Regression: 74.86268518102818\n",
      "CV score of Random Forest Regressor: 83.32165801054944\n",
      "CV score of Support Vector Regressor: -9.671556842023074\n",
      "CV score of Decision Tree Regressor: 69.3117144490079\n",
      "CV score of Gradient Boost Regressor: 85.28633749674388\n",
      "CV score of K Neighbors Regressor: 81.17860898644958\n",
      "CV score of Bagging Regressor: 81.97769667721178\n",
      "CV score of SGDRegressor: 74.87489539870204\n",
      "CV score of AdaBoostRegressor: 81.94176148058145\n",
      "CV score of ExtraTrees Regressor: 82.27799765582742\n"
     ]
    }
   ],
   "source": [
    "from sklearn.model_selection import cross_val_score\n",
    "\n",
    "cr1 = cross_val_score(LR,x1,y, cv=10)\n",
    "cr2 = cross_val_score(RFR,x1,y, cv=10)\n",
    "cr3 = cross_val_score(svr,x1,y, cv=10)\n",
    "cr4 = cross_val_score(DTR,x1,y, cv=10)\n",
    "cr5 = cross_val_score(GBR,x1,y, cv=10)\n",
    "cr6 = cross_val_score(KNR,x1,y, cv=10)\n",
    "cr7 = cross_val_score(BR,x1,y, cv=10)\n",
    "cr8 = cross_val_score(SR,x1,y, cv=10)\n",
    "cr9 = cross_val_score(ABR,x1,y, cv=10)\n",
    "cr10 = cross_val_score(ETR,x1,y, cv=10)\n",
    "\n",
    "print('CV score of Linear Regression:',cr1.mean()*100)\n",
    "print('CV score of Random Forest Regressor:',cr2.mean()*100)\n",
    "print('CV score of Support Vector Regressor:',cr3.mean()*100)\n",
    "print('CV score of Decision Tree Regressor:',cr4.mean()*100)\n",
    "print('CV score of Gradient Boost Regressor:',cr5.mean()*100)\n",
    "print('CV score of K Neighbors Regressor:',cr6.mean()*100)\n",
    "print('CV score of Bagging Regressor:',cr7.mean()*100)\n",
    "print('CV score of SGDRegressor:',cr8.mean()*100)\n",
    "print('CV score of AdaBoostRegressor:',cr9.mean()*100)\n",
    "print('CV score of ExtraTrees Regressor:',cr10.mean()*100)"
   ]
  },
  {
   "cell_type": "markdown",
   "id": "debd6e21",
   "metadata": {},
   "source": [
    "Gradient Boost Regressor got the best CV score of : 85.28633749674388"
   ]
  },
  {
   "cell_type": "markdown",
   "id": "fce61c8a",
   "metadata": {},
   "source": [
    "# Hyperparameter tuning"
   ]
  },
  {
   "cell_type": "code",
   "execution_count": 400,
   "id": "e3b48bdc",
   "metadata": {},
   "outputs": [
    {
     "data": {
      "text/plain": [
       "GridSearchCV(estimator=GradientBoostingRegressor(),\n",
       "             param_grid={'alpha': [1, 0.1, 0.01, 0.001],\n",
       "                         'n_estimators': [50, 100, 150, 200, 250]})"
      ]
     },
     "execution_count": 400,
     "metadata": {},
     "output_type": "execute_result"
    }
   ],
   "source": [
    "from sklearn.model_selection import GridSearchCV\n",
    "\n",
    "grid_params={'n_estimators':[50,100,150,200,250],'alpha':[1,0.1,0.01,0.001]}\n",
    "\n",
    "gs = GridSearchCV(GradientBoostingRegressor(),param_grid=grid_params)\n",
    "\n",
    "g_res = gs.fit(x1_train,y_train)\n",
    "g_res"
   ]
  },
  {
   "cell_type": "code",
   "execution_count": 401,
   "id": "12da6013",
   "metadata": {},
   "outputs": [
    {
     "data": {
      "text/plain": [
       "0.8227328250381033"
      ]
     },
     "execution_count": 401,
     "metadata": {},
     "output_type": "execute_result"
    }
   ],
   "source": [
    "g_res.best_score_"
   ]
  },
  {
   "cell_type": "code",
   "execution_count": 402,
   "id": "32ed14d1",
   "metadata": {},
   "outputs": [
    {
     "data": {
      "text/plain": [
       "{'alpha': 0.01, 'n_estimators': 50}"
      ]
     },
     "execution_count": 402,
     "metadata": {},
     "output_type": "execute_result"
    }
   ],
   "source": [
    "g_res.best_params_"
   ]
  },
  {
   "cell_type": "markdown",
   "id": "974b6a48",
   "metadata": {},
   "source": [
    "# Final Model"
   ]
  },
  {
   "cell_type": "code",
   "execution_count": 403,
   "id": "247da691",
   "metadata": {},
   "outputs": [
    {
     "name": "stdout",
     "output_type": "stream",
     "text": [
      "R2 Score: 92.31134989374067\n",
      "Mean absolute error:  2124.9473520397423\n",
      "Mean squared error:  10780343.768129043\n",
      "Root Mean absolute error:  3283.3433826100254\n"
     ]
    }
   ],
   "source": [
    "Final_Model = GradientBoostingRegressor(alpha=0.01,n_estimators=50)\n",
    "                                       \n",
    "Final_Model.fit(x1_train,y_train)\n",
    "pred = Final_Model.predict(x1_test)\n",
    "scores = r2_score(y_test,pred)\n",
    "print(\"R2 Score:\",scores*100)\n",
    "print(\"Mean absolute error: \", mean_absolute_error(y_test,pred))\n",
    "print(\"Mean squared error: \", mean_squared_error(y_test,pred))\n",
    "print(\"Root Mean absolute error: \",np.sqrt(mean_squared_error(y_test,pred)))"
   ]
  },
  {
   "cell_type": "markdown",
   "id": "149d34de",
   "metadata": {},
   "source": [
    "By using Hyperparameter tuning we can see an increase in the R2 score accuracy.\n",
    "\n",
    "Concluding Gradient Boosting Regressor is the best fit model for our testing with 92.31%  R2 score."
   ]
  },
  {
   "cell_type": "markdown",
   "id": "31d199bb",
   "metadata": {},
   "source": [
    "# Saving the model"
   ]
  },
  {
   "cell_type": "code",
   "execution_count": 404,
   "id": "30c358d4",
   "metadata": {},
   "outputs": [
    {
     "data": {
      "text/plain": [
       "['Medical_insurance_cost_pred.pkl']"
      ]
     },
     "execution_count": 404,
     "metadata": {},
     "output_type": "execute_result"
    }
   ],
   "source": [
    "# Saving the model using .pkl\n",
    "\n",
    "import joblib\n",
    "joblib.dump(Final_Model,\"Medical_insurance_cost_pred.pkl\")"
   ]
  },
  {
   "cell_type": "markdown",
   "id": "eb5a0086",
   "metadata": {},
   "source": [
    "# Predicting the Model"
   ]
  },
  {
   "cell_type": "code",
   "execution_count": 405,
   "id": "20e704ee",
   "metadata": {},
   "outputs": [
    {
     "data": {
      "text/plain": [
       "array([16994.84894337,  6666.80026781, 41229.81421418, 43087.56765999,\n",
       "       10546.06808518, 10356.53009741,  4638.58145659,  9263.47869153,\n",
       "        5510.75183941,  6819.44340659,  9611.692251  , 24881.60916972,\n",
       "       21863.80065522,  6356.4161088 , 17708.60215502, 23342.07901951,\n",
       "       13112.8267275 , 14574.22097186,  9009.49561712,  7098.25007265,\n",
       "       11025.80552736,  7181.15856494, 14367.83650869,  8210.26005414,\n",
       "        5890.02163938, 35701.49819161, 10480.98486342,  7220.49474312,\n",
       "        9589.79096847, 12830.60356464,  6767.98378766,  2991.96580544,\n",
       "        5801.34423865,  7864.50609976, 12909.98115265, 12708.75130883,\n",
       "       13289.6806346 , 23326.67213817, 13731.81730298, 13125.52276858,\n",
       "        3144.954229  , 45985.80521299,  6124.33968978,  6853.33652322,\n",
       "       38743.28451551,  9414.96353507, 11020.86569262, 15952.78324069,\n",
       "        4426.62060827, 14688.17347405, 12253.50039217,  3349.62780091,\n",
       "        6542.55491769,  9942.72027674, 14863.2991911 ,  7034.68908773,\n",
       "       10321.22493901,  7553.08192342,  5507.09499116, 12918.45194005,\n",
       "        6819.44340659,  6665.53118068,  5410.22416992,  5842.63491968,\n",
       "       11025.80552736, 10522.28099565,  3615.99508102, 14784.72512186,\n",
       "       15356.58557479,  3640.65148388, 13047.22277355, 10743.4261476 ,\n",
       "       23240.27769712,  2640.74883852, 18877.22821017,  4723.08397021,\n",
       "       12805.30295664,  4471.30117603, 11081.3530839 , 12197.7635143 ,\n",
       "       18176.02863061,  3110.37931483, 19395.60045673,  7992.20103302,\n",
       "       14608.79588603,  7526.5361975 ,  7758.97819941, 24011.26991144,\n",
       "       10179.72396624, 10355.79985318, 12674.80223274,  2682.29288869,\n",
       "        9590.98381035, 15322.01066062, 25241.60381814, 11940.30966428,\n",
       "        3144.954229  , 23240.27769712,  8220.35590231, 17657.71733632,\n",
       "        7034.68908773, 42517.05054466,  6406.10226331,  4723.60025177,\n",
       "       12533.44791108, 11020.86569262, 10339.37251212, 43803.49456148,\n",
       "        5093.95552049, 11131.0392384 ,  6366.17964557, 14784.72512186,\n",
       "       12569.04261426,  2605.07282464, 44011.76451036,  7124.57675391,\n",
       "        8113.04945111,  8960.92553242,  6139.95278612,  7188.96457788,\n",
       "        5387.8030689 ,  5987.13094715, 18780.23694487, 35835.70202333,\n",
       "        3606.07656971,  5131.48786184, 13755.11946808, 43311.75527825,\n",
       "       14623.90712637, 18780.23694487, 20352.87007743,  4518.77635577,\n",
       "       13741.34583402, 12603.69883913, 10880.06177548,  6661.49357474,\n",
       "       45773.25153649, 10729.40146231, 14031.91856122, 43450.63874656,\n",
       "       13042.57579945,  3029.4981468 ,  4242.08407745, 40366.44262461,\n",
       "       10277.1525094 ,  4708.09536147, 10031.88772839, 12953.02685422,\n",
       "        6736.53491429,  7963.42093506,  8443.28614594, 12612.82549909,\n",
       "        6005.57025422,  4657.34802748, 36859.76916516,  6949.21863497,\n",
       "       18780.23694487,  7914.19225426, 12452.13268489, 12758.43746333,\n",
       "       44863.77862886,  6114.57615301, 11114.26796592,  6391.64506844,\n",
       "       10595.75423968,  3669.94950884, 21897.05902793,  9894.45276385,\n",
       "        5333.17966276,  1804.71153756, 20356.53465533,  6406.10226331,\n",
       "        7181.15856494, 14703.28471438,  7121.41092165, 13047.22277355,\n",
       "        3606.07656971,  5743.46952618,  9009.49561712, 24790.84238003,\n",
       "        7000.25253199, 10531.67558783, 17528.28041634, 35307.2003947 ,\n",
       "        7098.25007265, 10314.68485076, 27970.57327368,  2421.83241107,\n",
       "       12548.55915142, 44759.70665804, 27944.59591463, 10883.29112689,\n",
       "        3180.63024288,  4710.93015706,  7963.42093506,  5020.03026187,\n",
       "       19216.94763311, 10513.15433568,  7041.66826162,  6381.4815758 ,\n",
       "       10206.17133712,  5093.95552049,  4668.46056406, 10369.82453847,\n",
       "        4376.93445376, 10378.95119843, 10148.15714395, 38057.02504712,\n",
       "        9541.44132295,  4815.75599927,  7249.45196915,  9009.49561712,\n",
       "        3029.4981468 ,  7535.97806677,  6423.6912249 , 12569.12392496,\n",
       "        4927.87451436,  7188.96457788,  3029.4981468 , 20352.87007743,\n",
       "       11020.86569262,  8043.88171356, 12773.80336237, 14799.8363622 ,\n",
       "        5081.80170734,  8270.74744542, 11654.32463388, 21799.3826403 ,\n",
       "        7249.45196915, 14783.92160309,  6804.76643852,  6471.02265645,\n",
       "        6821.20084645, 14665.75237303,  8599.21037407,  7377.68041535,\n",
       "       10541.4722547 ,  2368.19985141, 16068.06289545, 14665.75237303,\n",
       "       14863.2991911 , 40715.35079797,  7834.81466625,  5282.98481205,\n",
       "        5387.8030689 ,  8720.97674219,  6471.02265645, 12743.326223  ,\n",
       "        5295.6473214 ,  7914.19225426,  3110.37931483,  1767.17919621,\n",
       "       21612.3040177 , 34678.72984416, 44448.16071505,  4723.08397021,\n",
       "        3603.66266329,  9622.97029184, 12720.90512198, 13126.60036156,\n",
       "       22292.72632467,  6853.33652322, 40731.25537553, 12398.79368058,\n",
       "       43145.38515845,  8270.74744542, 11700.17287409,  8043.88171356,\n",
       "        8645.99087421,  6426.66703685,  6982.10437022, 12603.69883913,\n",
       "        7610.5607596 , 12709.37714691, 42064.6807672 ,  6662.50879315,\n",
       "        8226.22125811,  3387.16014226,  6792.84913194,  5686.29063676,\n",
       "        5488.33073839,  4630.9282227 ,  6150.19084045,  8096.84271894,\n",
       "        8138.15279862,  7781.59760746,  5131.48786184, 12743.326223  ,\n",
       "        3349.62780091,  8980.84879142,  3387.16014226,  8575.88079274,\n",
       "       17046.93054267, 39037.26415331, 21134.10433755,  6483.1764696 ,\n",
       "        2640.74883852,  7915.69410693,  6853.33652322,  9541.29765585,\n",
       "        4207.50916328, 15813.70553641, 41968.12911939,  5425.33541026,\n",
       "       13411.73832374, 34775.28149197, 40515.97608824,  6850.89227996,\n",
       "        2918.22551355, 24007.21336459, 37804.29251824, 13186.01015986,\n",
       "       14623.90712637, 15929.24606986, 12641.52753396,  8491.85623064,\n",
       "        5333.17966276, 12629.37372082,  7364.93045287, 20262.10328773,\n",
       "        9953.34122057,  3029.4981468 ,  6949.21863497, 13680.85844275,\n",
       "        7662.38944255, 46909.30158777,  3573.40661261,  2012.32618821,\n",
       "       23550.66706836, 44462.75888011,  5384.99276034,  8731.80502087,\n",
       "       14653.59855988, 36760.33999065,  5510.75183941, 21174.82218181,\n",
       "        8628.52711555, 16767.0598803 ,  6575.84849867, 14863.2991911 ,\n",
       "        8980.84879142, 10255.30888198, 12724.48838724, 41587.96261078,\n",
       "        9462.06373494,  7652.53386495,  3824.78456803,  8632.46260377,\n",
       "       12498.87299691, 45364.43364383, 27906.57084176,  4730.99091436,\n",
       "        3135.57724775,  8499.86795697, 10803.91353888, 37309.42830636,\n",
       "       35017.90078743,  3421.73505643, 14444.10522309, 26613.65381327,\n",
       "       39818.67963319, 23392.50445199,  2556.91138014,  3607.98152678,\n",
       "        9462.06373494, 19395.60045673,  6264.2603613 ,  4287.07038235,\n",
       "       14993.24300617,  4745.50507123,  7785.12851175, 19601.27087584,\n",
       "        3215.20515704, 12918.45194005, 43602.08370744,  9392.39876695,\n",
       "        6054.08876174,  4680.12550676, 38946.17645175,  9354.03123584,\n",
       "        7179.20104111,  4469.09020127, 45061.72570674, 10783.34876534,\n",
       "        2991.96580544, 14099.42896149,  5670.85126288, 38046.78400746,\n",
       "       12627.93673943, 12627.93673943, 35023.33262985, 15831.78005   ,\n",
       "        6902.07162696])"
      ]
     },
     "execution_count": 405,
     "metadata": {},
     "output_type": "execute_result"
    }
   ],
   "source": [
    "# Loading the saved model\n",
    "\n",
    "Model=joblib.load(\"Medical_insurance_cost_pred.pkl\")\n",
    "\n",
    "#Prediction\n",
    "prediction = Model.predict(x1_test)\n",
    "prediction"
   ]
  },
  {
   "cell_type": "code",
   "execution_count": 406,
   "id": "1c46e9be",
   "metadata": {},
   "outputs": [
    {
     "data": {
      "text/html": [
       "<div>\n",
       "<style scoped>\n",
       "    .dataframe tbody tr th:only-of-type {\n",
       "        vertical-align: middle;\n",
       "    }\n",
       "\n",
       "    .dataframe tbody tr th {\n",
       "        vertical-align: top;\n",
       "    }\n",
       "\n",
       "    .dataframe thead th {\n",
       "        text-align: right;\n",
       "    }\n",
       "</style>\n",
       "<table border=\"1\" class=\"dataframe\">\n",
       "  <thead>\n",
       "    <tr style=\"text-align: right;\">\n",
       "      <th></th>\n",
       "      <th>Predicted</th>\n",
       "      <th>Original</th>\n",
       "    </tr>\n",
       "  </thead>\n",
       "  <tbody>\n",
       "    <tr>\n",
       "      <th>0</th>\n",
       "      <td>16994.848943</td>\n",
       "      <td>16085.12750</td>\n",
       "    </tr>\n",
       "    <tr>\n",
       "      <th>1</th>\n",
       "      <td>6666.800268</td>\n",
       "      <td>3292.52985</td>\n",
       "    </tr>\n",
       "    <tr>\n",
       "      <th>2</th>\n",
       "      <td>41229.814214</td>\n",
       "      <td>41919.09700</td>\n",
       "    </tr>\n",
       "    <tr>\n",
       "      <th>3</th>\n",
       "      <td>43087.567660</td>\n",
       "      <td>44260.74990</td>\n",
       "    </tr>\n",
       "    <tr>\n",
       "      <th>4</th>\n",
       "      <td>10546.068085</td>\n",
       "      <td>9866.30485</td>\n",
       "    </tr>\n",
       "    <tr>\n",
       "      <th>...</th>\n",
       "      <td>...</td>\n",
       "      <td>...</td>\n",
       "    </tr>\n",
       "    <tr>\n",
       "      <th>388</th>\n",
       "      <td>12627.936739</td>\n",
       "      <td>10355.64100</td>\n",
       "    </tr>\n",
       "    <tr>\n",
       "      <th>389</th>\n",
       "      <td>12627.936739</td>\n",
       "      <td>11082.57720</td>\n",
       "    </tr>\n",
       "    <tr>\n",
       "      <th>390</th>\n",
       "      <td>35023.332630</td>\n",
       "      <td>34838.87300</td>\n",
       "    </tr>\n",
       "    <tr>\n",
       "      <th>391</th>\n",
       "      <td>15831.780050</td>\n",
       "      <td>12347.17200</td>\n",
       "    </tr>\n",
       "    <tr>\n",
       "      <th>392</th>\n",
       "      <td>6902.071627</td>\n",
       "      <td>4670.64000</td>\n",
       "    </tr>\n",
       "  </tbody>\n",
       "</table>\n",
       "<p>393 rows × 2 columns</p>\n",
       "</div>"
      ],
      "text/plain": [
       "        Predicted     Original\n",
       "0    16994.848943  16085.12750\n",
       "1     6666.800268   3292.52985\n",
       "2    41229.814214  41919.09700\n",
       "3    43087.567660  44260.74990\n",
       "4    10546.068085   9866.30485\n",
       "..            ...          ...\n",
       "388  12627.936739  10355.64100\n",
       "389  12627.936739  11082.57720\n",
       "390  35023.332630  34838.87300\n",
       "391  15831.780050  12347.17200\n",
       "392   6902.071627   4670.64000\n",
       "\n",
       "[393 rows x 2 columns]"
      ]
     },
     "execution_count": 406,
     "metadata": {},
     "output_type": "execute_result"
    }
   ],
   "source": [
    "pd.DataFrame([Model.predict(x1_test)[:],y_test[:]],index=[\"Predicted\",\"Original\"]).T"
   ]
  },
  {
   "cell_type": "markdown",
   "id": "ccb3ad77",
   "metadata": {},
   "source": [
    "# Conclusion"
   ]
  },
  {
   "cell_type": "markdown",
   "id": "354cead2",
   "metadata": {},
   "source": [
    "Predicted charges are similar more similar when compared with Original charges\n",
    "\n",
    "Concluding Gradient Boosting Regressor is the best fit model for our testing with 92.31% R2 score"
   ]
  },
  {
   "cell_type": "code",
   "execution_count": null,
   "id": "99980364",
   "metadata": {},
   "outputs": [],
   "source": []
  },
  {
   "cell_type": "code",
   "execution_count": null,
   "id": "f8cd5995",
   "metadata": {},
   "outputs": [],
   "source": []
  },
  {
   "cell_type": "code",
   "execution_count": null,
   "id": "beb6ee26",
   "metadata": {},
   "outputs": [],
   "source": []
  }
 ],
 "metadata": {
  "kernelspec": {
   "display_name": "Python 3 (ipykernel)",
   "language": "python",
   "name": "python3"
  },
  "language_info": {
   "codemirror_mode": {
    "name": "ipython",
    "version": 3
   },
   "file_extension": ".py",
   "mimetype": "text/x-python",
   "name": "python",
   "nbconvert_exporter": "python",
   "pygments_lexer": "ipython3",
   "version": "3.9.12"
  }
 },
 "nbformat": 4,
 "nbformat_minor": 5
}
